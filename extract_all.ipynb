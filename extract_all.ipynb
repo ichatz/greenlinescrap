{
 "cells": [
  {
   "cell_type": "code",
   "execution_count": 1,
   "metadata": {},
   "outputs": [],
   "source": [
    "import requests\n",
    "from bs4 import BeautifulSoup"
   ]
  },
  {
   "cell_type": "markdown",
   "metadata": {},
   "source": [
    "### Extract single activity"
   ]
  },
  {
   "cell_type": "code",
   "execution_count": 3,
   "metadata": {},
   "outputs": [],
   "source": [
    "def extract_activity(activity):\n",
    "    activity_info = {}\n",
    "    \n",
    "    # Find Start + Duration\n",
    "    info_tags = activity.find_all(\"div\", {\"class\": \"item-attributes__item__content__item--text\"})\n",
    "    if not info_tags:\n",
    "        # if not found move to next page\n",
    "        return activity_info\n",
    "        \n",
    "    # Extract Start Time\n",
    "    activity_info['time'] = info_tags[0].string                \n",
    "\n",
    "    # Extract duration and convert string to number       \n",
    "    duration = float(info_tags[1].string.split(' ')[0])\n",
    "    hours = int(duration)\n",
    "    half_hours = duration % 1\n",
    "    activity_info['duration'] =  hours * 60 + int(half_hours * 100)    \n",
    "    \n",
    "    # Find title\n",
    "    title_tags = activity.find_all(\"h3\", {\"class\": \"atgrid__item__title\"})    \n",
    "    for tag in title_tags:\n",
    "        children = tag.findChildren(\"a\" , recursive=False)\n",
    "        for link in children:\n",
    "            activity_info['title'] = link.string\n",
    "            activity_info['href'] = link['href']\n",
    "            \n",
    "    # Find description\n",
    "    description_tag = activity.find('div', {'class': 'atgrid__item__description'})\n",
    "    activity_info['descr'] = description_tag.string\n",
    "    \n",
    "    # Find activity type\n",
    "    types_list = []\n",
    "    types_tags = activity.find_all(\"div\", {\"class\": \"atgrid__item__icons\"})\n",
    "    for tag in types_tags:\n",
    "        children = tag.find_all(\"i\")\n",
    "        for item in children:\n",
    "            types_list.append(item['title'])\n",
    "            \n",
    "    activity_info['types'] = types_list        \n",
    "        \n",
    "    return activity_info"
   ]
  },
  {
   "cell_type": "markdown",
   "metadata": {},
   "source": [
    "### Extract all pages"
   ]
  },
  {
   "cell_type": "code",
   "execution_count": 10,
   "metadata": {},
   "outputs": [],
   "source": [
    "activities_list = []"
   ]
  },
  {
   "cell_type": "code",
   "execution_count": 11,
   "metadata": {},
   "outputs": [],
   "source": [
    "for pagina in range(4):\n",
    "    # Construct URL\n",
    "    url = 'https://www.greenlinetours.com/it/page/' + str(pagina) + '/?toursearch=1&lang=it'\n",
    "    \n",
    "    # Retrieve page\n",
    "    response = requests.get(url)\n",
    "    \n",
    "    # Convert to beautifulsoup\n",
    "    soup = BeautifulSoup(response.text, 'html.parser')\n",
    "    \n",
    "    # Extract activities\n",
    "    activities = soup.find_all('div', {'class': 'atgrid__item'})    \n",
    "    \n",
    "    # Examine one by one all activities\n",
    "    for activity in activities:\n",
    "        # extract content\n",
    "        content = extract_activity(activity)\n",
    "        \n",
    "        if len(content.keys()) > 0:\n",
    "            activities_list.append(content)"
   ]
  },
  {
   "cell_type": "code",
   "execution_count": 13,
   "metadata": {},
   "outputs": [
    {
     "data": {
      "text/plain": [
       "39"
      ]
     },
     "execution_count": 13,
     "metadata": {},
     "output_type": "execute_result"
    }
   ],
   "source": [
    "len(activities_list)"
   ]
  },
  {
   "cell_type": "code",
   "execution_count": null,
   "metadata": {},
   "outputs": [],
   "source": []
  }
 ],
 "metadata": {
  "kernelspec": {
   "display_name": "Python 3",
   "language": "python",
   "name": "python3"
  },
  "language_info": {
   "codemirror_mode": {
    "name": "ipython",
    "version": 3
   },
   "file_extension": ".py",
   "mimetype": "text/x-python",
   "name": "python",
   "nbconvert_exporter": "python",
   "pygments_lexer": "ipython3",
   "version": "3.8.10"
  }
 },
 "nbformat": 4,
 "nbformat_minor": 4
}
