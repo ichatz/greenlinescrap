{
 "cells": [
  {
   "cell_type": "markdown",
   "metadata": {},
   "source": [
    "## Construct + retrieve URL"
   ]
  },
  {
   "cell_type": "code",
   "execution_count": 1,
   "metadata": {},
   "outputs": [],
   "source": [
    "import requests"
   ]
  },
  {
   "cell_type": "code",
   "execution_count": 42,
   "metadata": {},
   "outputs": [],
   "source": [
    "pagina = 2"
   ]
  },
  {
   "cell_type": "code",
   "execution_count": 12,
   "metadata": {},
   "outputs": [],
   "source": [
    "url = 'https://www.greenlinetours.com/it/page/' + str(pagina) + '/?toursearch=1&lang=it'"
   ]
  },
  {
   "cell_type": "code",
   "execution_count": 13,
   "metadata": {},
   "outputs": [],
   "source": [
    "response = requests.get(url)"
   ]
  },
  {
   "cell_type": "markdown",
   "metadata": {},
   "source": [
    "## Extract activities"
   ]
  },
  {
   "cell_type": "code",
   "execution_count": 6,
   "metadata": {},
   "outputs": [],
   "source": [
    "from bs4 import BeautifulSoup"
   ]
  },
  {
   "cell_type": "code",
   "execution_count": 14,
   "metadata": {},
   "outputs": [],
   "source": [
    "soup = BeautifulSoup(response.text, 'html.parser')"
   ]
  },
  {
   "cell_type": "markdown",
   "metadata": {},
   "source": [
    "### Find all activities in page"
   ]
  },
  {
   "cell_type": "code",
   "execution_count": 37,
   "metadata": {},
   "outputs": [],
   "source": [
    "activities = soup.find_all('div', {'class': 'atgrid__item'})"
   ]
  },
  {
   "cell_type": "code",
   "execution_count": 77,
   "metadata": {},
   "outputs": [
    {
     "name": "stdout",
     "output_type": "stream",
     "text": [
      "{'start': None, 'duration': 90, 'title': 'Hop-On Hop-Off', 'href': 'https://www.greenlinetours.com/it/tours/hop-on-hop-off/', 'descr_short': 'Scopri l’arte, l’architettura e la storia di Roma. Scegli il pacchetto Hop On Hop Off del tour panoramico che si addice di più alla tua vacanza, indossa le cuffie e lasciati rapire dalla suggestiva atmosfera della\\xa0Città Eterna.', 'types': ['Panoramico']}\n",
      "{'start': '08.00', 'duration': 360, 'title': 'Italy ancient villages tour: Civita Bagnoregio and Orvieto', 'href': 'https://www.greenlinetours.com/it/tours/tour-civitabagnoregio-dying-town-and-orvieto/', 'descr_short': 'Civita Bagnoregio is considered one of the most beautiful villages in Italy and every year it is visited by thousands of thousands of people who come from all over the world to admire its timeless appearance and the magical aspect that can be perceived walking through the its narrow alleys.', 'types': ['Archeologico', 'Arte', 'Natura', 'Panoramico']}\n",
      "{'start': 'Mattina', 'duration': 180, 'title': 'Roma Classica', 'href': 'https://www.greenlinetours.com/it/tours/roma-classica/', 'descr_short': 'La quintessenza dello stile classico da Giulio Cesare all’arte barocca, passando per la Colonna di Marco Aurelio e Palazzo Montecitorio fino a raggiungere una delle più celebri fontane del mondo: la Fontana di Trevi ad opera di Nicola Salvi.', 'types': ['Arte', 'Offerte', 'Passeggiate', 'Religioso']}\n",
      "{'start': 'Pomeriggio', 'duration': 240, 'title': 'Musei Vaticani – Pomeriggio', 'href': 'https://www.greenlinetours.com/it/tours/musei-vaticani-pomeriggio/', 'descr_short': 'Uno dei più ricchi complessi espositivi al mondo. Percorri un viaggio suggestivo tra le opere che hanno rivoluzionato la storia dell’arte. Visita la Cappella Sistina e scopri le bellezze della Basilica di San Pietro .', 'types': ['Arte', 'Musei', 'Religioso', 'Salta la fila']}\n",
      "{'start': 'Pomeriggio', 'duration': 180, 'title': 'Roma Imperiale', 'href': 'https://www.greenlinetours.com/it/tours/roma-imperiale/', 'descr_short': 'Dal centro politico, legale e commerciale dell’antica Roma Imperiale al Colosseo. La storia di Roma e dei gladiatori, tra manifestazioni pubbliche come spettacoli di caccia e drammi basati sulla mitologia classica.', 'types': ['Archeologico', 'Arte', 'Passeggiate', 'Religioso', 'Salta la fila']}\n",
      "{'start': 'Mattina', 'duration': 240, 'title': 'Musei Vaticani – Mattina', 'href': 'https://www.greenlinetours.com/it/tours/musei-vaticani-mattina/', 'descr_short': 'Uno dei più ricchi complessi espositivi al mondo. Percorri un viaggio suggestivo tra le opere che hanno rivoluzionato la storia dell’arte. Visita la Cappella Sistina e scopri le bellezze della Basilica di San Pietro .', 'types': ['Arte', 'Musei', 'Religioso', 'Salta la fila']}\n",
      "{'start': 'Sera', 'duration': 120, 'title': 'Roma Illuminata', 'href': 'https://www.greenlinetours.com/it/tours/roma-illuminata/', 'descr_short': 'Un’atmosfera magica, quasi di altri tempi, per una serata speciale ed emozionante tra i luoghi più suggestivi di Roma visti sotto una luce diversa, la luce delle stelle.', 'types': ['Panoramico', 'Passeggiate']}\n",
      "{'start': 'Giornata intera', 'duration': 480, 'title': 'Roma Classica & Roma Imperiale Pacchetto Promo', 'href': 'https://www.greenlinetours.com/it/tours/roma-classica-roma-imperiale-pacchetto-promo/', 'descr_short': 'Gira in un solo giorno la capitale della cultura ed immergiti negli splendidi luoghi di età impereiale. Un pacchetto ideale per brevi soggiorni a Roma.', 'types': ['Archeologico', 'Arte', 'Passeggiate']}\n",
      "{'start': 'Mattina', 'duration': 240, 'title': 'Vaticano Udienza Papale', 'href': 'https://www.greenlinetours.com/it/tours/vaticano-udienza-papale/', 'descr_short': 'Un evento molto apprezzato dai fedeli che permette un incontro con il pontefice. Nei mesi estivi le udienze generali si tengono nella piazza, mentre nei mesi invernali possono aver luogo nell’aula Nervi.', 'types': ['Religioso']}\n",
      "{'start': 'Pomeriggio', 'duration': 180, 'title': 'Roma Cristiana', 'href': 'https://www.greenlinetours.com/it/tours/roma-cristiana/', 'descr_short': 'Dall’Appia Antica, regina delle strade romane che si congiunge con il centro monumentale della capitale, parte il tour Roma Cristiana. Visita le Catacombe, la Basilica di San Giovanni e Santa Maria Maggiore.', 'types': ['Archeologico', 'Arte', 'Offerte', 'Religioso']}\n"
     ]
    }
   ],
   "source": [
    "for activity in activities:\n",
    "    activity_info = {}\n",
    "    \n",
    "    # Find Start + Duration\n",
    "    info_tags = activity.find_all(\"div\", {\"class\": \"item-attributes__item__content__item--text\"})\n",
    "    if not info_tags:\n",
    "        # if not found move to next page\n",
    "        continue\n",
    "        \n",
    "    # Extract Start Time\n",
    "    activity_info['time'] = info_tags[0].string                \n",
    "\n",
    "    # Extract duration and convert string to number       \n",
    "    duration = float(info_tags[1].string.split(' ')[0])\n",
    "    hours = int(duration)\n",
    "    half_hours = duration % 1\n",
    "    activity_info['duration'] =  hours * 60 + int(half_hours * 100)    \n",
    "    \n",
    "    # Find title\n",
    "    title_tags = activity.find_all(\"h3\", {\"class\": \"atgrid__item__title\"})    \n",
    "    for tag in title_tags:\n",
    "        children = tag.findChildren(\"a\" , recursive=False)\n",
    "        for link in children:\n",
    "            activity_info['title'] = link.string\n",
    "            activity_info['href'] = link['href']\n",
    "            \n",
    "    # Find description\n",
    "    description_tag = activity.find('div', {'class': 'atgrid__item__description'})\n",
    "    activity_info['descr'] = description_tag.string\n",
    "    \n",
    "    # Find activity type\n",
    "    types_list = []\n",
    "    types_tags = activity.find_all(\"div\", {\"class\": \"atgrid__item__icons\"})\n",
    "    for tag in types_tags:\n",
    "        children = tag.find_all(\"i\")\n",
    "        for item in children:\n",
    "            types_list.append(item['title'])\n",
    "            \n",
    "    activity_info['types'] = types_list        \n",
    "        \n",
    "    print(activity_info)"
   ]
  },
  {
   "cell_type": "code",
   "execution_count": null,
   "metadata": {},
   "outputs": [],
   "source": []
  }
 ],
 "metadata": {
  "kernelspec": {
   "display_name": "Python 3",
   "language": "python",
   "name": "python3"
  },
  "language_info": {
   "codemirror_mode": {
    "name": "ipython",
    "version": 3
   },
   "file_extension": ".py",
   "mimetype": "text/x-python",
   "name": "python",
   "nbconvert_exporter": "python",
   "pygments_lexer": "ipython3",
   "version": "3.8.10"
  }
 },
 "nbformat": 4,
 "nbformat_minor": 4
}
